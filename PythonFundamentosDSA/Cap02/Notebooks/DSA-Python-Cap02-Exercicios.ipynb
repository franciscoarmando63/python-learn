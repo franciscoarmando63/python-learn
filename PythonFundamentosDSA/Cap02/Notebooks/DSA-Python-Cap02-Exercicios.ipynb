{
 "cells": [
  {
   "cell_type": "markdown",
   "metadata": {},
   "source": [
    "# <font color='blue'>Data Science Academy - Python Fundamentos - Capítulo 2</font>\n",
    "\n",
    "## Download: http://github.com/dsacademybr"
   ]
  },
  {
   "cell_type": "code",
   "execution_count": null,
   "metadata": {},
   "outputs": [],
   "source": [
    "# Versão da Linguagem Python\n",
    "from platform import python_version\n",
    "print('Versão da Linguagem Python Usada Neste Jupyter Notebook:', python_version())"
   ]
  },
  {
   "cell_type": "markdown",
   "metadata": {},
   "source": [
    "## Exercícios Cap02"
   ]
  },
  {
   "cell_type": "code",
   "execution_count": null,
   "metadata": {},
   "outputs": [],
   "source": [
    "# Exercício 1 - Imprima na tela os números de 1 a 10. Use uma lista para armazenar os números."
   ]
  },
  {
   "cell_type": "code",
   "execution_count": 1,
   "metadata": {},
   "outputs": [
    {
     "name": "stdout",
     "output_type": "stream",
     "text": [
      "(1, 2, 3, 4, 5, 6, 7, 8, 9, 10)\n"
     ]
    }
   ],
   "source": [
    "# Resolução do Exercício 1:\n",
    "\n",
    "numbers = (1, 2, 3, 4, 5, 6, 7, 8, 9, 10)\n",
    "print(numbers)"
   ]
  },
  {
   "cell_type": "code",
   "execution_count": null,
   "metadata": {},
   "outputs": [],
   "source": [
    "# Exercício 2 - Crie uma lista de 5 objetos e imprima na tela"
   ]
  },
  {
   "cell_type": "code",
   "execution_count": 3,
   "metadata": {},
   "outputs": [
    {
     "name": "stdout",
     "output_type": "stream",
     "text": [
      "('batatas', 'cenouras', 'alfaces')\n"
     ]
    }
   ],
   "source": [
    "# Resolução do Exercício 2:\n",
    "\n",
    "lista_de_objetos = ('batatas', 'cenouras', 'alfaces')\n",
    "print(lista_de_objetos)"
   ]
  },
  {
   "cell_type": "code",
   "execution_count": null,
   "metadata": {},
   "outputs": [],
   "source": [
    "# Exercício 3 - Crie duas strings e concatene as duas em uma terceira string"
   ]
  },
  {
   "cell_type": "code",
   "execution_count": 25,
   "metadata": {},
   "outputs": [
    {
     "name": "stdout",
     "output_type": "stream",
     "text": [
      "I am studying Python for Systems Analysis\n"
     ]
    }
   ],
   "source": [
    "# Resolução do Exercício 3:\n",
    "\n",
    "primeira_string = 'I am studying '\n",
    "segunda_string = 'Python for Systems Analysis'\n",
    "terceira_string = primeira_string + segunda_string\n",
    "print(terceira_string)"
   ]
  },
  {
   "cell_type": "code",
   "execution_count": null,
   "metadata": {},
   "outputs": [],
   "source": [
    "# Exercício 4 - Crie uma tupla com os seguintes elementos: 1, 2, 2, 3, 4, 4, 4, 5 e depois utilize a função count do \n",
    "# objeto tupla para verificar quantas vezes o número 4 aparece na tupla"
   ]
  },
  {
   "cell_type": "code",
   "execution_count": 6,
   "metadata": {},
   "outputs": [
    {
     "name": "stdout",
     "output_type": "stream",
     "text": [
      "3\n"
     ]
    }
   ],
   "source": [
    "# Resolução do Exercício 4:\n",
    "\n",
    "elementos = (1, 2, 2, 3, 4, 4, 4, 5)\n",
    "contar = elementos.count(4)\n",
    "print(contar)"
   ]
  },
  {
   "cell_type": "code",
   "execution_count": null,
   "metadata": {},
   "outputs": [],
   "source": [
    "# Exercício 5 - Crie um dicionário vazio e imprima na tela"
   ]
  },
  {
   "cell_type": "code",
   "execution_count": 8,
   "metadata": {},
   "outputs": [
    {
     "name": "stdout",
     "output_type": "stream",
     "text": [
      "{}\n"
     ]
    }
   ],
   "source": [
    "# Resolução do Exercício 5:\n",
    "\n",
    "vazio = {}\n",
    "print({})"
   ]
  },
  {
   "cell_type": "code",
   "execution_count": null,
   "metadata": {},
   "outputs": [],
   "source": [
    "# Exercício 6 - Crie um dicionário com 3 chaves e 3 valores e imprima na tela"
   ]
  },
  {
   "cell_type": "code",
   "execution_count": 17,
   "metadata": {},
   "outputs": [
    {
     "name": "stdout",
     "output_type": "stream",
     "text": [
      "{'elemento1': 'Hamburguer', 'elemento2': 'Pizza', 'elemento3': 'Batata Frita'}\n"
     ]
    }
   ],
   "source": [
    "# Resolução do Exercício 6:\n",
    "\n",
    "fast_food = {'elemento1': 'Hamburguer', 'elemento2': 'Pizza', 'elemento3': 'Batata Frita'}\n",
    "print(fast_food)"
   ]
  },
  {
   "cell_type": "code",
   "execution_count": null,
   "metadata": {},
   "outputs": [],
   "source": [
    "# Exercício 7 - Adicione mais um elemento ao dicionário criado no exercício anterior e imprima na tela"
   ]
  },
  {
   "cell_type": "code",
   "execution_count": 13,
   "metadata": {},
   "outputs": [
    {
     "name": "stdout",
     "output_type": "stream",
     "text": [
      "{'elemento1': 'Hamburguer', 'elemento2': 'Pizza', 'elemento3': 'Batata Frita', 'elemento4': 'Broto'}\n"
     ]
    }
   ],
   "source": [
    "# Resolução do Exercício 7:\n",
    "\n",
    "fast_food['elemento4'] = 'Broto'\n",
    "print(fast_food)"
   ]
  },
  {
   "cell_type": "code",
   "execution_count": null,
   "metadata": {},
   "outputs": [],
   "source": [
    "# Exercício 8 - Crie um dicionário com 3 chaves e 3 valores. Um dos valores deve ser uma lista de 2 elementos numéricos. \n",
    "# Imprima o dicionário na tela."
   ]
  },
  {
   "cell_type": "code",
   "execution_count": 16,
   "metadata": {},
   "outputs": [
    {
     "name": "stdout",
     "output_type": "stream",
     "text": [
      "{'chave1': {'chave2': {'chave3': ['arroz', 'feijão'], 'legumes': ['alface', 'repolho', 'couve'], 'frutas': ['Uva', 'Abacaxi', 'Maçã']}}}\n"
     ]
    }
   ],
   "source": [
    "# Resolução do Exercício 8:\n",
    "\n",
    "dicionarios = {'chave1' : {'chave2' : { 'chave3' : ['arroz', 'feijão'], 'legumes' : ['alface', 'repolho', 'couve'], 'frutas': ['Uva', 'Abacaxi', 'Maçã']}}}\n",
    "print(dicionarios)\n"
   ]
  },
  {
   "cell_type": "code",
   "execution_count": null,
   "metadata": {},
   "outputs": [],
   "source": [
    "# Exercício 9 - Crie uma lista de 4 elementos. O primeiro elemento deve ser uma string, \n",
    "# o segundo uma tupla de 2 elementos, o terceiro um dcionário com 2 chaves e 2 valores e \n",
    "# o quarto elemento um valor do tipo float.\n",
    "# Imprima a lista na tela."
   ]
  },
  {
   "cell_type": "code",
   "execution_count": 19,
   "metadata": {},
   "outputs": [
    {
     "name": "stdout",
     "output_type": "stream",
     "text": [
      "['Isso claramente é uma STRING!!', (3.14, 'H²O'), {'nome': 'Francisco Silva', 'nunca_esquecer': 'O próprio nome'}, 0.9999]\n"
     ]
    }
   ],
   "source": [
    "# Resolução do Exercício 9:\n",
    "\n",
    "list_four_elements = ['Isso claramente é uma STRING!!', (3.14, 'H²O'), {'nome': 'Francisco Silva', 'nunca_esquecer': 'O próprio nome'}, 0.9999]\n",
    "print(list_four_elements)"
   ]
  },
  {
   "cell_type": "code",
   "execution_count": null,
   "metadata": {},
   "outputs": [],
   "source": [
    "# Exercício 10 - Considere a string abaixo. Imprima na tela apenas os caracteres da posição 1 a 18.\n",
    "frase = 'Cientista de Dados é o profissional mais sexy do século XXI'"
   ]
  },
  {
   "cell_type": "code",
   "execution_count": 23,
   "metadata": {},
   "outputs": [
    {
     "name": "stdout",
     "output_type": "stream",
     "text": [
      "Cientista de Dados\n"
     ]
    }
   ],
   "source": [
    "# Resolução do Exercício 10:\n",
    "\n",
    "frase = 'Cientista de Dados é o profissional mais sexy do século XXI'\n",
    "print(frase[0:18])\n"
   ]
  },
  {
   "cell_type": "markdown",
   "metadata": {},
   "source": [
    "# Fim"
   ]
  },
  {
   "cell_type": "markdown",
   "metadata": {},
   "source": [
    "### Obrigado - Data Science Academy - <a href=\"http://facebook.com/dsacademybr\">facebook.com/dsacademybr</a>"
   ]
  }
 ],
 "metadata": {
  "kernelspec": {
   "display_name": "Python 3",
   "language": "python",
   "name": "python3"
  },
  "language_info": {
   "codemirror_mode": {
    "name": "ipython",
    "version": 3
   },
   "file_extension": ".py",
   "mimetype": "text/x-python",
   "name": "python",
   "nbconvert_exporter": "python",
   "pygments_lexer": "ipython3",
   "version": "3.8.3"
  }
 },
 "nbformat": 4,
 "nbformat_minor": 1
}
